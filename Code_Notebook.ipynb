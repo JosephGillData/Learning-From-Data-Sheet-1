{
 "cells": [
  {
   "cell_type": "markdown",
   "metadata": {},
   "source": [
    "# Coursework 1 - Decision Trees Learning"
   ]
  },
  {
   "cell_type": "markdown",
   "metadata": {},
   "source": [
    "### Candidate number: 087074"
   ]
  },
  {
   "cell_type": "code",
   "execution_count": 1,
   "metadata": {},
   "outputs": [],
   "source": [
    "# Import appropriate packages\n",
    "import pandas as pd\n",
    "import numpy as np \n",
    "from sklearn import preprocessing\n",
    "import matplotlib.pyplot as plt\n",
    "\n",
    "# Load the dataset and split it into descriptive and target datasets\n",
    "dia_all = pd.read_csv(\"diabetes.txt\")  \n",
    "sourcevars = dia_all.iloc[:,:-1] \n",
    "targetvar = dia_all.iloc[:,-1:] "
   ]
  },
  {
   "cell_type": "code",
   "execution_count": 2,
   "metadata": {},
   "outputs": [
    {
     "name": "stdout",
     "output_type": "stream",
     "text": [
      "<class 'pandas.core.frame.DataFrame'>\n",
      "RangeIndex: 768 entries, 0 to 767\n",
      "Data columns (total 9 columns):\n",
      " #   Column  Non-Null Count  Dtype  \n",
      "---  ------  --------------  -----  \n",
      " 0   preg    768 non-null    int64  \n",
      " 1   plas    768 non-null    int64  \n",
      " 2   pres    768 non-null    int64  \n",
      " 3   skin    768 non-null    int64  \n",
      " 4   insu    768 non-null    int64  \n",
      " 5   mass    768 non-null    float64\n",
      " 6   pedi    768 non-null    float64\n",
      " 7   age     768 non-null    int64  \n",
      " 8   class   768 non-null    object \n",
      "dtypes: float64(2), int64(6), object(1)\n",
      "memory usage: 54.1+ KB\n"
     ]
    }
   ],
   "source": [
    "dia_all.info()"
   ]
  },
  {
   "cell_type": "markdown",
   "metadata": {},
   "source": [
    "# Question 1: Exploratory data analysis"
   ]
  },
  {
   "cell_type": "markdown",
   "metadata": {},
   "source": [
    "### 1a) Calculate the mean, median, standard-deviation and correlation matrix for all the input attributes using Pandas package. "
   ]
  },
  {
   "cell_type": "code",
   "execution_count": 24,
   "metadata": {},
   "outputs": [
    {
     "data": {
      "text/html": [
       "<div>\n",
       "<style scoped>\n",
       "    .dataframe tbody tr th:only-of-type {\n",
       "        vertical-align: middle;\n",
       "    }\n",
       "\n",
       "    .dataframe tbody tr th {\n",
       "        vertical-align: top;\n",
       "    }\n",
       "\n",
       "    .dataframe thead th {\n",
       "        text-align: right;\n",
       "    }\n",
       "</style>\n",
       "<table border=\"1\" class=\"dataframe\">\n",
       "  <thead>\n",
       "    <tr style=\"text-align: right;\">\n",
       "      <th></th>\n",
       "      <th>preg</th>\n",
       "      <th>plas</th>\n",
       "      <th>pres</th>\n",
       "      <th>skin</th>\n",
       "      <th>insu</th>\n",
       "      <th>mass</th>\n",
       "      <th>pedi</th>\n",
       "      <th>age</th>\n",
       "    </tr>\n",
       "  </thead>\n",
       "  <tbody>\n",
       "    <tr>\n",
       "      <th>mean</th>\n",
       "      <td>3.845</td>\n",
       "      <td>120.895</td>\n",
       "      <td>69.105</td>\n",
       "      <td>20.536</td>\n",
       "      <td>79.799</td>\n",
       "      <td>31.993</td>\n",
       "      <td>0.472</td>\n",
       "      <td>33.241</td>\n",
       "    </tr>\n",
       "    <tr>\n",
       "      <th>median</th>\n",
       "      <td>3.000</td>\n",
       "      <td>117.000</td>\n",
       "      <td>72.000</td>\n",
       "      <td>23.000</td>\n",
       "      <td>30.500</td>\n",
       "      <td>32.000</td>\n",
       "      <td>0.372</td>\n",
       "      <td>29.000</td>\n",
       "    </tr>\n",
       "    <tr>\n",
       "      <th>std</th>\n",
       "      <td>3.370</td>\n",
       "      <td>31.973</td>\n",
       "      <td>19.356</td>\n",
       "      <td>15.952</td>\n",
       "      <td>115.244</td>\n",
       "      <td>7.884</td>\n",
       "      <td>0.331</td>\n",
       "      <td>11.760</td>\n",
       "    </tr>\n",
       "  </tbody>\n",
       "</table>\n",
       "</div>"
      ],
      "text/plain": [
       "         preg     plas    pres    skin     insu    mass   pedi     age\n",
       "mean    3.845  120.895  69.105  20.536   79.799  31.993  0.472  33.241\n",
       "median  3.000  117.000  72.000  23.000   30.500  32.000  0.372  29.000\n",
       "std     3.370   31.973  19.356  15.952  115.244   7.884  0.331  11.760"
      ]
     },
     "execution_count": 24,
     "metadata": {},
     "output_type": "execute_result"
    }
   ],
   "source": [
    "summary = sourcevars.aggregate([np.mean, np.median, np.std])\n",
    "summary = summary.round(3)\n",
    "summary"
   ]
  },
  {
   "cell_type": "code",
   "execution_count": 25,
   "metadata": {},
   "outputs": [
    {
     "data": {
      "text/html": [
       "<div>\n",
       "<style scoped>\n",
       "    .dataframe tbody tr th:only-of-type {\n",
       "        vertical-align: middle;\n",
       "    }\n",
       "\n",
       "    .dataframe tbody tr th {\n",
       "        vertical-align: top;\n",
       "    }\n",
       "\n",
       "    .dataframe thead th {\n",
       "        text-align: right;\n",
       "    }\n",
       "</style>\n",
       "<table border=\"1\" class=\"dataframe\">\n",
       "  <thead>\n",
       "    <tr style=\"text-align: right;\">\n",
       "      <th></th>\n",
       "      <th>preg</th>\n",
       "      <th>plas</th>\n",
       "      <th>pres</th>\n",
       "      <th>skin</th>\n",
       "      <th>insu</th>\n",
       "      <th>mass</th>\n",
       "      <th>pedi</th>\n",
       "      <th>age</th>\n",
       "    </tr>\n",
       "  </thead>\n",
       "  <tbody>\n",
       "    <tr>\n",
       "      <th>preg</th>\n",
       "      <td>1.000</td>\n",
       "      <td>0.129</td>\n",
       "      <td>0.141</td>\n",
       "      <td>-0.082</td>\n",
       "      <td>-0.074</td>\n",
       "      <td>0.018</td>\n",
       "      <td>-0.034</td>\n",
       "      <td>0.544</td>\n",
       "    </tr>\n",
       "    <tr>\n",
       "      <th>plas</th>\n",
       "      <td>0.129</td>\n",
       "      <td>1.000</td>\n",
       "      <td>0.153</td>\n",
       "      <td>0.057</td>\n",
       "      <td>0.331</td>\n",
       "      <td>0.221</td>\n",
       "      <td>0.137</td>\n",
       "      <td>0.264</td>\n",
       "    </tr>\n",
       "    <tr>\n",
       "      <th>pres</th>\n",
       "      <td>0.141</td>\n",
       "      <td>0.153</td>\n",
       "      <td>1.000</td>\n",
       "      <td>0.207</td>\n",
       "      <td>0.089</td>\n",
       "      <td>0.282</td>\n",
       "      <td>0.041</td>\n",
       "      <td>0.240</td>\n",
       "    </tr>\n",
       "    <tr>\n",
       "      <th>skin</th>\n",
       "      <td>-0.082</td>\n",
       "      <td>0.057</td>\n",
       "      <td>0.207</td>\n",
       "      <td>1.000</td>\n",
       "      <td>0.437</td>\n",
       "      <td>0.393</td>\n",
       "      <td>0.184</td>\n",
       "      <td>-0.114</td>\n",
       "    </tr>\n",
       "    <tr>\n",
       "      <th>insu</th>\n",
       "      <td>-0.074</td>\n",
       "      <td>0.331</td>\n",
       "      <td>0.089</td>\n",
       "      <td>0.437</td>\n",
       "      <td>1.000</td>\n",
       "      <td>0.198</td>\n",
       "      <td>0.185</td>\n",
       "      <td>-0.042</td>\n",
       "    </tr>\n",
       "    <tr>\n",
       "      <th>mass</th>\n",
       "      <td>0.018</td>\n",
       "      <td>0.221</td>\n",
       "      <td>0.282</td>\n",
       "      <td>0.393</td>\n",
       "      <td>0.198</td>\n",
       "      <td>1.000</td>\n",
       "      <td>0.141</td>\n",
       "      <td>0.036</td>\n",
       "    </tr>\n",
       "    <tr>\n",
       "      <th>pedi</th>\n",
       "      <td>-0.034</td>\n",
       "      <td>0.137</td>\n",
       "      <td>0.041</td>\n",
       "      <td>0.184</td>\n",
       "      <td>0.185</td>\n",
       "      <td>0.141</td>\n",
       "      <td>1.000</td>\n",
       "      <td>0.034</td>\n",
       "    </tr>\n",
       "    <tr>\n",
       "      <th>age</th>\n",
       "      <td>0.544</td>\n",
       "      <td>0.264</td>\n",
       "      <td>0.240</td>\n",
       "      <td>-0.114</td>\n",
       "      <td>-0.042</td>\n",
       "      <td>0.036</td>\n",
       "      <td>0.034</td>\n",
       "      <td>1.000</td>\n",
       "    </tr>\n",
       "  </tbody>\n",
       "</table>\n",
       "</div>"
      ],
      "text/plain": [
       "       preg   plas   pres   skin   insu   mass   pedi    age\n",
       "preg  1.000  0.129  0.141 -0.082 -0.074  0.018 -0.034  0.544\n",
       "plas  0.129  1.000  0.153  0.057  0.331  0.221  0.137  0.264\n",
       "pres  0.141  0.153  1.000  0.207  0.089  0.282  0.041  0.240\n",
       "skin -0.082  0.057  0.207  1.000  0.437  0.393  0.184 -0.114\n",
       "insu -0.074  0.331  0.089  0.437  1.000  0.198  0.185 -0.042\n",
       "mass  0.018  0.221  0.282  0.393  0.198  1.000  0.141  0.036\n",
       "pedi -0.034  0.137  0.041  0.184  0.185  0.141  1.000  0.034\n",
       "age   0.544  0.264  0.240 -0.114 -0.042  0.036  0.034  1.000"
      ]
     },
     "execution_count": 25,
     "metadata": {},
     "output_type": "execute_result"
    }
   ],
   "source": [
    "sourcevars.corr().round(3)"
   ]
  },
  {
   "cell_type": "markdown",
   "metadata": {},
   "source": [
    "## 1b) Draw a chart that helps with understanding the data. "
   ]
  },
  {
   "cell_type": "code",
   "execution_count": 26,
   "metadata": {
    "scrolled": true
   },
   "outputs": [],
   "source": [
    "# Function that returns a normalised version of a dataset\n",
    "def normalise(df):\n",
    "    result = df.copy()\n",
    "    for feature_name in df.columns:\n",
    "        max_value = df[feature_name].max()\n",
    "        min_value = df[feature_name].min()\n",
    "        # Use Min-Max technique\n",
    "        result[feature_name] = (df[feature_name] - min_value) / (max_value - min_value)\n",
    "    return result"
   ]
  },
  {
   "cell_type": "code",
   "execution_count": 27,
   "metadata": {},
   "outputs": [],
   "source": [
    "# A function that returns the column headers of a dataset as a list\n",
    "def get_labels(dataframe):\n",
    "    labels = []\n",
    "    for col in dataframe:\n",
    "        labels.append(col)\n",
    "    return labels"
   ]
  },
  {
   "cell_type": "code",
   "execution_count": 28,
   "metadata": {},
   "outputs": [],
   "source": [
    "# Normalise the dataset and get the column headings\n",
    "Normalised_source = normalise(sourcevars)\n",
    "labels = get_labels(sourcevars)\n",
    "\n",
    "# Create a new normalised datadrame and add the target variable to it\n",
    "Normalised_data = pd.DataFrame(Normalised_source, columns = labels)\n",
    "target = targetvar['class'].astype(str)\n",
    "Normalised_data['class'] = target\n",
    "\n",
    "# Split the observations in the dataset by their classification category and calculate the means for each characteristic in both categories\n",
    "Normal_negative = Normalised_data.loc[Normalised_data['class'] == 'tested_negative'].aggregate([np.mean])\n",
    "Normal_positive = Normalised_data.loc[Normalised_data['class'] == 'tested_positive'].aggregate([np.mean])\n",
    "Normal_means_positive = Normal_positive.iloc[0,:].to_numpy()\n",
    "Normal_means_negative = Normal_negative.iloc[0,:].to_numpy()"
   ]
  },
  {
   "cell_type": "code",
   "execution_count": 29,
   "metadata": {},
   "outputs": [
    {
     "data": {
      "image/png": "[encoded data removed]",
      "text/plain": [
       "<Figure size 432x288 with 1 Axes>"
      ]
     },
     "metadata": {
      "needs_background": "light"
     },
     "output_type": "display_data"
    }
   ],
   "source": [
    "# Plot a bar chart showing the data\n",
    "x = np.arange(len(labels))\n",
    "width = 0.4\n",
    "\n",
    "fig, ax = plt.subplots()\n",
    "rects1 = ax.bar(x - width/2, Normal_means_positive, width, label='Diabeties', color ='r')\n",
    "rects2 = ax.bar(x + width/2, Normal_means_negative, width, label='No Diabeties',color ='g')\n",
    "\n",
    "ax.set_ylabel('Mean')\n",
    "ax.set_xlabel('Characteristic')\n",
    "ax.set_title('Bar Chart Comparing The Means of Normalised Characteristics Seperated By Diabeties Classification')\n",
    "ax.set_xticks(x)\n",
    "ax.set_xticklabels(labels)\n",
    "ax.legend()\n",
    "\n",
    "plt.show()"
   ]
  },
  {
   "cell_type": "markdown",
   "metadata": {},
   "source": [
    "# Question 2: Classification"
   ]
  },
  {
   "cell_type": "markdown",
   "metadata": {},
   "source": [
    "### 2a) Build a Decision Tree classifier using the training dataset and evaluate the performance on the testing set. Repeat this experiment 10 times using a different random split in each iteration. Show the performance (i.e. accuracy, true positive rate and precision) for each iteration and the average of the 10 iterations for each measure.  "
   ]
  },
  {
   "cell_type": "code",
   "execution_count": 30,
   "metadata": {},
   "outputs": [],
   "source": [
    "# Import appropriate machine learning software\n",
    "from sklearn.model_selection import train_test_split\n",
    "from sklearn.tree import DecisionTreeClassifier\n",
    "from sklearn.tree import plot_tree\n",
    "from sklearn.metrics import accuracy_score\n",
    "from sklearn.metrics import confusion_matrix"
   ]
  },
  {
   "cell_type": "code",
   "execution_count": 31,
   "metadata": {},
   "outputs": [],
   "source": [
    "# A function that ouputs the Specifity, Accuracy, Sensitivity and Precision of a model\n",
    "def performance(target, predicted):\n",
    "    cm = confusion_matrix(target, predicted)\n",
    "    TN = cm[0][0]\n",
    "    FN = cm[1][0]\n",
    "    TP = cm[1][1]\n",
    "    FP = cm[0][1]\n",
    "    TOT = TP+FP+FN+TN\n",
    "    # Specificity\n",
    "    SPE = TN/(TN+FP)\n",
    "    # Accuracy \n",
    "    ACC = (TP+TN)/(TP+FP+FN+TN)\n",
    "    # Sensitivity, hit rate, recall, or true positive rate\n",
    "    TPR = TP/(TP+FN)\n",
    "    # Precision or positive predictive value\n",
    "    PPV = TP/(TP+FP)\n",
    "    return ACC, TPR, PPV, SPE"
   ]
  },
  {
   "cell_type": "code",
   "execution_count": 32,
   "metadata": {},
   "outputs": [
    {
     "data": {
      "text/html": [
       "<div>\n",
       "<style scoped>\n",
       "    .dataframe tbody tr th:only-of-type {\n",
       "        vertical-align: middle;\n",
       "    }\n",
       "\n",
       "    .dataframe tbody tr th {\n",
       "        vertical-align: top;\n",
       "    }\n",
       "\n",
       "    .dataframe thead th {\n",
       "        text-align: right;\n",
       "    }\n",
       "</style>\n",
       "<table border=\"1\" class=\"dataframe\">\n",
       "  <thead>\n",
       "    <tr style=\"text-align: right;\">\n",
       "      <th></th>\n",
       "      <th>Accuracy</th>\n",
       "      <th>Precision</th>\n",
       "      <th>Sensitivity</th>\n",
       "      <th>Specificity</th>\n",
       "    </tr>\n",
       "  </thead>\n",
       "  <tbody>\n",
       "    <tr>\n",
       "      <th>0</th>\n",
       "      <td>0.688</td>\n",
       "      <td>0.589</td>\n",
       "      <td>0.506</td>\n",
       "      <td>0.795</td>\n",
       "    </tr>\n",
       "    <tr>\n",
       "      <th>1</th>\n",
       "      <td>0.680</td>\n",
       "      <td>0.516</td>\n",
       "      <td>0.434</td>\n",
       "      <td>0.800</td>\n",
       "    </tr>\n",
       "    <tr>\n",
       "      <th>2</th>\n",
       "      <td>0.649</td>\n",
       "      <td>0.605</td>\n",
       "      <td>0.500</td>\n",
       "      <td>0.759</td>\n",
       "    </tr>\n",
       "    <tr>\n",
       "      <th>3</th>\n",
       "      <td>0.697</td>\n",
       "      <td>0.553</td>\n",
       "      <td>0.595</td>\n",
       "      <td>0.750</td>\n",
       "    </tr>\n",
       "    <tr>\n",
       "      <th>4</th>\n",
       "      <td>0.727</td>\n",
       "      <td>0.551</td>\n",
       "      <td>0.606</td>\n",
       "      <td>0.781</td>\n",
       "    </tr>\n",
       "    <tr>\n",
       "      <th>5</th>\n",
       "      <td>0.706</td>\n",
       "      <td>0.558</td>\n",
       "      <td>0.615</td>\n",
       "      <td>0.752</td>\n",
       "    </tr>\n",
       "    <tr>\n",
       "      <th>6</th>\n",
       "      <td>0.714</td>\n",
       "      <td>0.615</td>\n",
       "      <td>0.571</td>\n",
       "      <td>0.796</td>\n",
       "    </tr>\n",
       "    <tr>\n",
       "      <th>7</th>\n",
       "      <td>0.710</td>\n",
       "      <td>0.602</td>\n",
       "      <td>0.595</td>\n",
       "      <td>0.776</td>\n",
       "    </tr>\n",
       "    <tr>\n",
       "      <th>8</th>\n",
       "      <td>0.688</td>\n",
       "      <td>0.554</td>\n",
       "      <td>0.568</td>\n",
       "      <td>0.753</td>\n",
       "    </tr>\n",
       "    <tr>\n",
       "      <th>9</th>\n",
       "      <td>0.710</td>\n",
       "      <td>0.632</td>\n",
       "      <td>0.552</td>\n",
       "      <td>0.806</td>\n",
       "    </tr>\n",
       "    <tr>\n",
       "      <th>mean</th>\n",
       "      <td>0.697</td>\n",
       "      <td>0.578</td>\n",
       "      <td>0.554</td>\n",
       "      <td>0.777</td>\n",
       "    </tr>\n",
       "  </tbody>\n",
       "</table>\n",
       "</div>"
      ],
      "text/plain": [
       "      Accuracy  Precision  Sensitivity  Specificity\n",
       "0        0.688      0.589        0.506        0.795\n",
       "1        0.680      0.516        0.434        0.800\n",
       "2        0.649      0.605        0.500        0.759\n",
       "3        0.697      0.553        0.595        0.750\n",
       "4        0.727      0.551        0.606        0.781\n",
       "5        0.706      0.558        0.615        0.752\n",
       "6        0.714      0.615        0.571        0.796\n",
       "7        0.710      0.602        0.595        0.776\n",
       "8        0.688      0.554        0.568        0.753\n",
       "9        0.710      0.632        0.552        0.806\n",
       "mean     0.697      0.578        0.554        0.777"
      ]
     },
     "execution_count": 32,
     "metadata": {},
     "output_type": "execute_result"
    }
   ],
   "source": [
    "# Create empty lists that will store the performance indicators of the model\n",
    "ACC_list = []\n",
    "TPR_list = []\n",
    "PPV_list = []\n",
    "SPE_list = []\n",
    "\n",
    "# Find the predictions of the model, iterating 10 times with a random split each time \n",
    "for i in range(1,11):\n",
    "    source_train, source_test, target_train, target_test = train_test_split(sourcevars, targetvar, test_size = 0.3, random_state = i)\n",
    "    # Use the Gini Index as the criterion for quality of node split \n",
    "    classifier_model = DecisionTreeClassifier(criterion=\"gini\", random_state=1)\n",
    "    classifier_model = classifier_model.fit(source_train, target_train)\n",
    "    prediction = classifier_model.predict(source_test)\n",
    "    # Store the performance of the model for each iteration\n",
    "    ACC, TPR, PPV, SPE = performance(target_test, prediction)\n",
    "    ACC_list.append(ACC)\n",
    "    TPR_list.append(TPR)\n",
    "    PPV_list.append(PPV)\n",
    "    SPE_list.append(SPE)\n",
    "\n",
    "# Create a dataframe with the key performance indicators of the model for each iteration\n",
    "dict = {'Accuracy': ACC_list, 'Precision': PPV_list, 'Sensitivity': TPR_list, 'Specificity': SPE_list}\n",
    "df = pd.DataFrame(dict)\n",
    "df.loc['mean'] = df.mean() # Add a row with the means\n",
    "df = df.round(3)\n",
    "df"
   ]
  },
  {
   "cell_type": "markdown",
   "metadata": {},
   "source": [
    "### 2b) Compare the performance of the experiment above when you change the criterion from Gini impurity (“gini”) to information gain (“entropy”). Repeat this experiment 10 time using a different random split in each iteration as in section in part (a)"
   ]
  },
  {
   "cell_type": "code",
   "execution_count": 33,
   "metadata": {},
   "outputs": [
    {
     "data": {
      "text/html": [
       "<div>\n",
       "<style scoped>\n",
       "    .dataframe tbody tr th:only-of-type {\n",
       "        vertical-align: middle;\n",
       "    }\n",
       "\n",
       "    .dataframe tbody tr th {\n",
       "        vertical-align: top;\n",
       "    }\n",
       "\n",
       "    .dataframe thead th {\n",
       "        text-align: right;\n",
       "    }\n",
       "</style>\n",
       "<table border=\"1\" class=\"dataframe\">\n",
       "  <thead>\n",
       "    <tr style=\"text-align: right;\">\n",
       "      <th></th>\n",
       "      <th>Accuracy</th>\n",
       "      <th>Precision</th>\n",
       "      <th>Sensitivity</th>\n",
       "      <th>Specificity</th>\n",
       "    </tr>\n",
       "  </thead>\n",
       "  <tbody>\n",
       "    <tr>\n",
       "      <th>0</th>\n",
       "      <td>0.736</td>\n",
       "      <td>0.636</td>\n",
       "      <td>0.659</td>\n",
       "      <td>0.781</td>\n",
       "    </tr>\n",
       "    <tr>\n",
       "      <th>1</th>\n",
       "      <td>0.684</td>\n",
       "      <td>0.521</td>\n",
       "      <td>0.500</td>\n",
       "      <td>0.774</td>\n",
       "    </tr>\n",
       "    <tr>\n",
       "      <th>2</th>\n",
       "      <td>0.671</td>\n",
       "      <td>0.631</td>\n",
       "      <td>0.541</td>\n",
       "      <td>0.767</td>\n",
       "    </tr>\n",
       "    <tr>\n",
       "      <th>3</th>\n",
       "      <td>0.714</td>\n",
       "      <td>0.576</td>\n",
       "      <td>0.620</td>\n",
       "      <td>0.763</td>\n",
       "    </tr>\n",
       "    <tr>\n",
       "      <th>4</th>\n",
       "      <td>0.688</td>\n",
       "      <td>0.495</td>\n",
       "      <td>0.648</td>\n",
       "      <td>0.706</td>\n",
       "    </tr>\n",
       "    <tr>\n",
       "      <th>5</th>\n",
       "      <td>0.736</td>\n",
       "      <td>0.610</td>\n",
       "      <td>0.603</td>\n",
       "      <td>0.804</td>\n",
       "    </tr>\n",
       "    <tr>\n",
       "      <th>6</th>\n",
       "      <td>0.749</td>\n",
       "      <td>0.659</td>\n",
       "      <td>0.643</td>\n",
       "      <td>0.810</td>\n",
       "    </tr>\n",
       "    <tr>\n",
       "      <th>7</th>\n",
       "      <td>0.706</td>\n",
       "      <td>0.598</td>\n",
       "      <td>0.583</td>\n",
       "      <td>0.776</td>\n",
       "    </tr>\n",
       "    <tr>\n",
       "      <th>8</th>\n",
       "      <td>0.701</td>\n",
       "      <td>0.581</td>\n",
       "      <td>0.531</td>\n",
       "      <td>0.793</td>\n",
       "    </tr>\n",
       "    <tr>\n",
       "      <th>9</th>\n",
       "      <td>0.710</td>\n",
       "      <td>0.628</td>\n",
       "      <td>0.563</td>\n",
       "      <td>0.799</td>\n",
       "    </tr>\n",
       "    <tr>\n",
       "      <th>mean</th>\n",
       "      <td>0.710</td>\n",
       "      <td>0.593</td>\n",
       "      <td>0.589</td>\n",
       "      <td>0.777</td>\n",
       "    </tr>\n",
       "  </tbody>\n",
       "</table>\n",
       "</div>"
      ],
      "text/plain": [
       "      Accuracy  Precision  Sensitivity  Specificity\n",
       "0        0.736      0.636        0.659        0.781\n",
       "1        0.684      0.521        0.500        0.774\n",
       "2        0.671      0.631        0.541        0.767\n",
       "3        0.714      0.576        0.620        0.763\n",
       "4        0.688      0.495        0.648        0.706\n",
       "5        0.736      0.610        0.603        0.804\n",
       "6        0.749      0.659        0.643        0.810\n",
       "7        0.706      0.598        0.583        0.776\n",
       "8        0.701      0.581        0.531        0.793\n",
       "9        0.710      0.628        0.563        0.799\n",
       "mean     0.710      0.593        0.589        0.777"
      ]
     },
     "execution_count": 33,
     "metadata": {},
     "output_type": "execute_result"
    }
   ],
   "source": [
    "# Create empty lists that will store the performance indicators of the model\n",
    "ACC_list2 = []\n",
    "TPR_list2 = []\n",
    "PPV_list2 = []\n",
    "SPE_list2 = []\n",
    "\n",
    "# Find the predictions of the model, iterating 10 times with a random split each time \n",
    "for i in range(1,11):\n",
    "    source_train, source_test, target_train, target_test = train_test_split(sourcevars, targetvar, test_size = 0.3, random_state = i)\n",
    "    # Use Information Gain as the criterion for quality of node split \n",
    "    classifier_model2 = DecisionTreeClassifier(criterion=\"entropy\", random_state=1)\n",
    "    classifier_model2 = classifier_model2.fit(source_train, target_train)\n",
    "    prediction2 = classifier_model2.predict(source_test)\n",
    "    # Store the performance of the model for each iteration\n",
    "    ACC, TPR, PPV, SPE = performance(target_test, prediction2)\n",
    "    ACC_list2.append(ACC)\n",
    "    TPR_list2.append(TPR)\n",
    "    PPV_list2.append(PPV)\n",
    "    SPE_list2.append(SPE)\n",
    "\n",
    "# Create a dataframe with the key performance indicators of the model for each iteration\n",
    "dict2 = {'Accuracy': ACC_list2, 'Precision': PPV_list2, 'Sensitivity': TPR_list2, 'Specificity': SPE_list2}\n",
    "df2 = pd.DataFrame(dict2)\n",
    "df2.loc['mean'] = df2.mean() # Add a row with the means\n",
    "InfoGain_means = df2.mean()\n",
    "df2 = df2.round(3)\n",
    "df2"
   ]
  },
  {
   "cell_type": "markdown",
   "metadata": {},
   "source": [
    "### 3c) Compare the performance of the two classifiers (a) and (b) over the 10 repeats using a suitable chart. "
   ]
  },
  {
   "cell_type": "code",
   "execution_count": 34,
   "metadata": {},
   "outputs": [],
   "source": [
    "# Create a dataframe that compares the means of the key performance indicators for the two classifiers in (a) and (b)\n",
    "Comparison_dict = {'Gini': df.mean(), 'Information Gain': df2.mean()}\n",
    "Comparison_table = pd.DataFrame(Comparison_dict)\n",
    "Comparison_table = Comparison_table.round(3)"
   ]
  },
  {
   "cell_type": "code",
   "execution_count": 35,
   "metadata": {},
   "outputs": [
    {
     "data": {
      "image/png": "[encoded data removed]",
      "text/plain": [
       "<Figure size 576x432 with 1 Axes>"
      ]
     },
     "metadata": {
      "needs_background": "light"
     },
     "output_type": "display_data"
    }
   ],
   "source": [
    "# Plot the information of the dataframe on a bar chart\n",
    "ax = Comparison_table[['Gini','Information Gain']].plot(kind='bar', title =\"Bar Chart Comparing The Key Performance Indicators\", figsize=(8, 6), legend=True, fontsize=12)\n",
    "ax.set_xlabel(\"Key Performance Indicators\", fontsize=12)\n",
    "ax.set_ylabel(\"Value\")\n",
    "plt.xticks(rotation=0)\n",
    "ax.set_ylim([0.5,0.8])\n",
    "plt.show()"
   ]
  },
  {
   "cell_type": "markdown",
   "metadata": {},
   "source": [
    "### 3d) Do you think standardizing the data before applying DT would improve the performance for this dataset? Why? (150 words)"
   ]
  },
  {
   "cell_type": "markdown",
   "metadata": {},
   "source": [
    "The performance of a decision tree isn’t affected by standardising the dataset. When a dataset is standardised, a linear transformation is applied to each of the values to remove the units which doesn’t change the ordering of the observations for each characteristic. A dataset is split by setting threshold levels on a characteristic designed to maximise the quality of a node split, therefore the standardised threshold levels will split the standardised dataset at the same points that threshold levels set on the unstandardised dataset would. Therefore, the standardised and the unstandardised datasets would be split into the same subgroups. This is true for each node in a decision tree, resulting in identical decision trees and thus performance of standardised and unstandardised data."
   ]
  },
  {
   "cell_type": "markdown",
   "metadata": {},
   "source": [
    "# Question 3: DT Classification parameters"
   ]
  },
  {
   "cell_type": "markdown",
   "metadata": {},
   "source": [
    "### 3a) How does increasing the minimum number of samples required to split an internal node parameter in the DT algorithm (i.e. min_samples_split = 2, 5, 10 and 15) affect the accuracy on the test set? Show your results using a suitable chart or table."
   ]
  },
  {
   "cell_type": "code",
   "execution_count": 36,
   "metadata": {},
   "outputs": [],
   "source": [
    "import statistics\n",
    "\n",
    "# Create empty lists that will store the minimum sample splits and the accuracy\n",
    "ACC_MinSplit = []\n",
    "MinSampleSplit = []\n",
    "\n",
    "for h in range(2,250): # Iterate up to 250 minimum sample splits as this is where the model tends to a stationary value\n",
    "    source_train, source_test, target_train, target_test = train_test_split(sourcevars, targetvar, test_size = 0.3, random_state = 1)\n",
    "    # Change the minimum sample split\n",
    "    classifier_model3 = DecisionTreeClassifier(criterion=\"entropy\", random_state=1, min_samples_split = h)\n",
    "    classifier_model3 = classifier_model3.fit(source_train, target_train)\n",
    "    prediction3 = classifier_model3.predict(source_test)\n",
    "    # Calculate the performance of each model\n",
    "    ACC, TPR, PPV, SPE = performance(target_test, prediction3)\n",
    "    MinSampleSplit.append(h)\n",
    "    ACC_MinSplit.append(ACC)\n",
    "\n",
    "# Create and display a dateframe storing the information\n",
    "dict31 = {'Minimum Sample Split': MinSampleSplit, 'Accuray': ACC_MinSplit}\n",
    "df31 = pd.DataFrame(dict31)"
   ]
  },
  {
   "cell_type": "code",
   "execution_count": 37,
   "metadata": {},
   "outputs": [
    {
     "data": {
      "image/png": "[encoded data removed]",
      "text/plain": [
       "<Figure size 432x288 with 1 Axes>"
      ]
     },
     "metadata": {
      "needs_background": "light"
     },
     "output_type": "display_data"
    }
   ],
   "source": [
    "# Plot the information on a line graph\n",
    "df31.plot(x ='Minimum Sample Split',y ='Accuray', kind = 'line')\n",
    "plt.xlabel('Minimum Sample Split')\n",
    "plt.ylabel('Accuracy')\n",
    "plt.title('Graph Showing How Accuracy Varies With Minimum Sample Split')\n",
    "plt.legend('',frameon=False)\n",
    "axes = plt.gca()\n",
    "axes.set_xlim([0,250])\n",
    "axes.set_ylim([0.7,0.8])\n",
    "plt.show()"
   ]
  },
  {
   "cell_type": "markdown",
   "metadata": {},
   "source": [
    "### 3b) How does increasing the maximum depth of the decision tree parameter (i.e. max_depth = 3, 4, 5 and 6) affect the accuracy on the test set? Show your results using a suitable chart or table. "
   ]
  },
  {
   "cell_type": "code",
   "execution_count": 38,
   "metadata": {},
   "outputs": [],
   "source": [
    "# Create empty lists that will store the minimum maximum tree depth and the accuracy\n",
    "ACC_MaxDepth = []\n",
    "MaxDepth = []\n",
    "\n",
    "for h in range(1,25): #  Iterate up to 250 minimum sample splits as this is where the model tends to a stationary value\n",
    "    source_train, source_test, target_train, target_test = train_test_split(sourcevars, targetvar, test_size = 0.3, random_state = 1)\n",
    "    # Change the maximum tree depth\n",
    "    classifier_model4 = DecisionTreeClassifier(criterion=\"entropy\", random_state=1, max_depth = h)\n",
    "    classifier_model4 = classifier_model4.fit(source_train, target_train)\n",
    "    prediction4 = classifier_model4.predict(source_test)\n",
    "    # Calculate the performance of each model\n",
    "    ACC, TPR, PPV, SPE = performance(target_test, prediction4)\n",
    "    MaxDepth.append(h)\n",
    "    ACC_MaxDepth.append(ACC)\n",
    "\n",
    "# Create and display a dateframe storing the information\n",
    "dict4 = {'Maximum Depth': MaxDepth, 'Accuray': ACC_MaxDepth}\n",
    "df4 = pd.DataFrame(dict4)"
   ]
  },
  {
   "cell_type": "code",
   "execution_count": 39,
   "metadata": {
    "scrolled": true
   },
   "outputs": [
    {
     "data": {
      "image/png": "[encoded data removed]",
      "text/plain": [
       "<Figure size 432x288 with 1 Axes>"
      ]
     },
     "metadata": {
      "needs_background": "light"
     },
     "output_type": "display_data"
    }
   ],
   "source": [
    "# Plot the information on a line graph\n",
    "df4.plot(x ='Maximum Depth', y='Accuray', kind = 'line')\n",
    "plt.xlabel('Maximum Tree Depth')\n",
    "plt.ylabel('Accuracy')\n",
    "plt.title('Graph Showing How Accuracy Varies With Maximum Tree Depth')\n",
    "plt.legend('',frameon=False)\n",
    "axes = plt.gca()\n",
    "axes.set_xlim([0,24])\n",
    "axes.set_ylim([0.7,0.79])\n",
    "plt.show()"
   ]
  }
 ],
 "metadata": {
  "kernelspec": {
   "display_name": "Python 3",
   "language": "python",
   "name": "python3"
  },
  "language_info": {
   "codemirror_mode": {
    "name": "ipython",
    "version": 3
   },
   "file_extension": ".py",
   "mimetype": "text/x-python",
   "name": "python",
   "nbconvert_exporter": "python",
   "pygments_lexer": "ipython3",
   "version": "3.8.3"
  }
 },
 "nbformat": 4,
 "nbformat_minor": 2
}
